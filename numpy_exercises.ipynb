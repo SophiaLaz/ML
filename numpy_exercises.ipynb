{
 "cells": [
  {
   "cell_type": "markdown",
   "id": "3ecb4c08",
   "metadata": {},
   "source": [
    "## Упражнения по NumPy\n",
    "Все задачи здесь можно (и нужно) выполнить только методами numpy без использования циклов.\n",
    "Задания не обязательные и не на оценку, они нужны только для того, чтобы помочь вам получше разобраться с NumPy."
   ]
  },
  {
   "cell_type": "code",
   "execution_count": 1,
   "id": "f11dd905",
   "metadata": {},
   "outputs": [],
   "source": [
    "import numpy as np"
   ]
  },
  {
   "cell_type": "markdown",
   "id": "0679d48d",
   "metadata": {},
   "source": [
    "### Линейные операторы\n",
    "Даны два линейных оператора. Создайте новый оператор, который будет их композицией."
   ]
  },
  {
   "cell_type": "code",
   "execution_count": 2,
   "id": "c45a9008",
   "metadata": {},
   "outputs": [],
   "source": [
    "a = np.random.randn(8, 8)\n",
    "b = np.random.randn(8, 8)\n",
    "c = None # TODO: implement"
   ]
  },
  {
   "cell_type": "markdown",
   "id": "fb43efaf",
   "metadata": {},
   "source": [
    "Примените созданный оператор из предыдущего пункта к вектору."
   ]
  },
  {
   "cell_type": "code",
   "execution_count": 3,
   "id": "3076cdf1",
   "metadata": {},
   "outputs": [],
   "source": [
    "v = np.random.randn(8)\n",
    "u = None # TODO: implement"
   ]
  },
  {
   "cell_type": "markdown",
   "id": "0339057f",
   "metadata": {},
   "source": [
    "Посчитайте обратный оператор для оператора $c$ и примените его к вектору $u$ "
   ]
  },
  {
   "cell_type": "code",
   "execution_count": 4,
   "id": "4c303e2c",
   "metadata": {},
   "outputs": [],
   "source": [
    "c_inv = None\n",
    "u_inv = None"
   ]
  },
  {
   "cell_type": "markdown",
   "id": "541b0017",
   "metadata": {},
   "source": [
    "### Создание и изменение массивов\n",
    "Создайте верхнетреугольную матрицу со случайными элементами."
   ]
  },
  {
   "cell_type": "code",
   "execution_count": null,
   "id": "5a54360e",
   "metadata": {},
   "outputs": [],
   "source": []
  },
  {
   "cell_type": "markdown",
   "id": "35a092c7",
   "metadata": {},
   "source": [
    "Создайте случайную матрицу перестановки."
   ]
  },
  {
   "cell_type": "code",
   "execution_count": null,
   "id": "79f42276",
   "metadata": {},
   "outputs": [],
   "source": []
  },
  {
   "cell_type": "markdown",
   "id": "f38f30f2",
   "metadata": {},
   "source": [
    "Дан случайный массив. Сделайте циклический сдвиг на 2 вдоль второй оси двумя разными способами."
   ]
  },
  {
   "cell_type": "code",
   "execution_count": null,
   "id": "832bc584",
   "metadata": {},
   "outputs": [],
   "source": [
    "a = np.random.randn(8, 8, 8)\n",
    "a1 = None\n",
    "a2 = None"
   ]
  },
  {
   "cell_type": "markdown",
   "id": "e4f5a061",
   "metadata": {},
   "source": [
    "Дан случайный массив. Двумя разными способами приравняйте в нем все элементы меньше 0 к 0."
   ]
  },
  {
   "cell_type": "code",
   "execution_count": 5,
   "id": "0f9d32ed",
   "metadata": {},
   "outputs": [],
   "source": [
    "a = np.random.randn(8, 8, 8)\n",
    "a1 = None\n",
    "a2 = None"
   ]
  },
  {
   "cell_type": "markdown",
   "id": "8f64541a",
   "metadata": {},
   "source": [
    "Даны два набора точек в восьмимерном пространстве. Посчитайте матрицу евклидовых расстояний между всеми парами точек из первого и второго наборов."
   ]
  },
  {
   "cell_type": "code",
   "execution_count": 6,
   "id": "150207d1",
   "metadata": {},
   "outputs": [],
   "source": [
    "a = np.random.randn(16, 8)\n",
    "b = np.random.randn(32, 8)\n",
    "a_b_dist = None"
   ]
  },
  {
   "cell_type": "markdown",
   "id": "f49c32ca",
   "metadata": {},
   "source": [
    "Используя посчитанную матрицу расстояний найдите для каждой точки из набора $a$ ближайшую точку из набора $b$. Вывидите индексы точек и сами точки."
   ]
  },
  {
   "cell_type": "code",
   "execution_count": null,
   "id": "f724a160",
   "metadata": {},
   "outputs": [],
   "source": []
  }
 ],
 "metadata": {
  "kernelspec": {
   "display_name": "Python 3 (ipykernel)",
   "language": "python",
   "name": "python3"
  },
  "language_info": {
   "codemirror_mode": {
    "name": "ipython",
    "version": 3
   },
   "file_extension": ".py",
   "mimetype": "text/x-python",
   "name": "python",
   "nbconvert_exporter": "python",
   "pygments_lexer": "ipython3",
   "version": "3.9.12"
  }
 },
 "nbformat": 4,
 "nbformat_minor": 5
}
